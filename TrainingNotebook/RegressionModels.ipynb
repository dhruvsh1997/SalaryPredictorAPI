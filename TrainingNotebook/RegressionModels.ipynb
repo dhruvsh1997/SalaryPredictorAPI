{
  "nbformat": 4,
  "nbformat_minor": 0,
  "metadata": {
    "colab": {
      "provenance": []
    },
    "kernelspec": {
      "name": "python3",
      "display_name": "Python 3"
    },
    "language_info": {
      "name": "python"
    }
  },
  "cells": [
    {
      "cell_type": "code",
      "source": [
        "#🔧 Step 1: Install Required Libraries\n",
        "!pip install -q scikit-learn pandas matplotlib seaborn"
      ],
      "metadata": {
        "id": "ITMNC5GQiTkK"
      },
      "execution_count": 1,
      "outputs": []
    },
    {
      "cell_type": "code",
      "source": [
        "#📥 Step 2: Import Libraries\n",
        "import pandas as pd\n",
        "import numpy as np\n",
        "import matplotlib.pyplot as plt\n",
        "import seaborn as sns\n",
        "from sklearn.tree import DecisionTreeRegressor\n",
        "from sklearn.model_selection import train_test_split\n",
        "from sklearn.linear_model import LinearRegression, Lasso, Ridge\n",
        "from sklearn.svm import SVR\n",
        "from sklearn.ensemble import RandomForestRegressor, GradientBoostingRegressor, AdaBoostRegressor\n",
        "from sklearn.metrics import mean_squared_error, mean_absolute_error, r2_score\n",
        "\n",
        "import pickle"
      ],
      "metadata": {
        "id": "Me20lgaRjLld"
      },
      "execution_count": 13,
      "outputs": []
    },
    {
      "cell_type": "code",
      "source": [
        "#📊 Step 3: Load and Preprocess Dataset\n",
        "df = pd.read_csv(\"/content/Salary_dataset.csv\")\n",
        "df=df.drop('Unnamed: 0', axis=1)\n",
        "# Check for nulls\n",
        "print(df.isnull().sum())\n",
        "df.head()"
      ],
      "metadata": {
        "colab": {
          "base_uri": "https://localhost:8080/",
          "height": 260
        },
        "id": "TdHtMvMujO5F",
        "outputId": "86f32bfc-2e4b-4100-f818-039171d657f0"
      },
      "execution_count": 6,
      "outputs": [
        {
          "output_type": "stream",
          "name": "stdout",
          "text": [
            "YearsExperience    0\n",
            "Salary             0\n",
            "dtype: int64\n"
          ]
        },
        {
          "output_type": "execute_result",
          "data": {
            "text/plain": [
              "   YearsExperience   Salary\n",
              "0              1.2  39344.0\n",
              "1              1.4  46206.0\n",
              "2              1.6  37732.0\n",
              "3              2.1  43526.0\n",
              "4              2.3  39892.0"
            ],
            "text/html": [
              "\n",
              "  <div id=\"df-d2668e27-2f90-4afe-aa84-b9da7f2cc6e4\" class=\"colab-df-container\">\n",
              "    <div>\n",
              "<style scoped>\n",
              "    .dataframe tbody tr th:only-of-type {\n",
              "        vertical-align: middle;\n",
              "    }\n",
              "\n",
              "    .dataframe tbody tr th {\n",
              "        vertical-align: top;\n",
              "    }\n",
              "\n",
              "    .dataframe thead th {\n",
              "        text-align: right;\n",
              "    }\n",
              "</style>\n",
              "<table border=\"1\" class=\"dataframe\">\n",
              "  <thead>\n",
              "    <tr style=\"text-align: right;\">\n",
              "      <th></th>\n",
              "      <th>YearsExperience</th>\n",
              "      <th>Salary</th>\n",
              "    </tr>\n",
              "  </thead>\n",
              "  <tbody>\n",
              "    <tr>\n",
              "      <th>0</th>\n",
              "      <td>1.2</td>\n",
              "      <td>39344.0</td>\n",
              "    </tr>\n",
              "    <tr>\n",
              "      <th>1</th>\n",
              "      <td>1.4</td>\n",
              "      <td>46206.0</td>\n",
              "    </tr>\n",
              "    <tr>\n",
              "      <th>2</th>\n",
              "      <td>1.6</td>\n",
              "      <td>37732.0</td>\n",
              "    </tr>\n",
              "    <tr>\n",
              "      <th>3</th>\n",
              "      <td>2.1</td>\n",
              "      <td>43526.0</td>\n",
              "    </tr>\n",
              "    <tr>\n",
              "      <th>4</th>\n",
              "      <td>2.3</td>\n",
              "      <td>39892.0</td>\n",
              "    </tr>\n",
              "  </tbody>\n",
              "</table>\n",
              "</div>\n",
              "    <div class=\"colab-df-buttons\">\n",
              "\n",
              "  <div class=\"colab-df-container\">\n",
              "    <button class=\"colab-df-convert\" onclick=\"convertToInteractive('df-d2668e27-2f90-4afe-aa84-b9da7f2cc6e4')\"\n",
              "            title=\"Convert this dataframe to an interactive table.\"\n",
              "            style=\"display:none;\">\n",
              "\n",
              "  <svg xmlns=\"http://www.w3.org/2000/svg\" height=\"24px\" viewBox=\"0 -960 960 960\">\n",
              "    <path d=\"M120-120v-720h720v720H120Zm60-500h600v-160H180v160Zm220 220h160v-160H400v160Zm0 220h160v-160H400v160ZM180-400h160v-160H180v160Zm440 0h160v-160H620v160ZM180-180h160v-160H180v160Zm440 0h160v-160H620v160Z\"/>\n",
              "  </svg>\n",
              "    </button>\n",
              "\n",
              "  <style>\n",
              "    .colab-df-container {\n",
              "      display:flex;\n",
              "      gap: 12px;\n",
              "    }\n",
              "\n",
              "    .colab-df-convert {\n",
              "      background-color: #E8F0FE;\n",
              "      border: none;\n",
              "      border-radius: 50%;\n",
              "      cursor: pointer;\n",
              "      display: none;\n",
              "      fill: #1967D2;\n",
              "      height: 32px;\n",
              "      padding: 0 0 0 0;\n",
              "      width: 32px;\n",
              "    }\n",
              "\n",
              "    .colab-df-convert:hover {\n",
              "      background-color: #E2EBFA;\n",
              "      box-shadow: 0px 1px 2px rgba(60, 64, 67, 0.3), 0px 1px 3px 1px rgba(60, 64, 67, 0.15);\n",
              "      fill: #174EA6;\n",
              "    }\n",
              "\n",
              "    .colab-df-buttons div {\n",
              "      margin-bottom: 4px;\n",
              "    }\n",
              "\n",
              "    [theme=dark] .colab-df-convert {\n",
              "      background-color: #3B4455;\n",
              "      fill: #D2E3FC;\n",
              "    }\n",
              "\n",
              "    [theme=dark] .colab-df-convert:hover {\n",
              "      background-color: #434B5C;\n",
              "      box-shadow: 0px 1px 3px 1px rgba(0, 0, 0, 0.15);\n",
              "      filter: drop-shadow(0px 1px 2px rgba(0, 0, 0, 0.3));\n",
              "      fill: #FFFFFF;\n",
              "    }\n",
              "  </style>\n",
              "\n",
              "    <script>\n",
              "      const buttonEl =\n",
              "        document.querySelector('#df-d2668e27-2f90-4afe-aa84-b9da7f2cc6e4 button.colab-df-convert');\n",
              "      buttonEl.style.display =\n",
              "        google.colab.kernel.accessAllowed ? 'block' : 'none';\n",
              "\n",
              "      async function convertToInteractive(key) {\n",
              "        const element = document.querySelector('#df-d2668e27-2f90-4afe-aa84-b9da7f2cc6e4');\n",
              "        const dataTable =\n",
              "          await google.colab.kernel.invokeFunction('convertToInteractive',\n",
              "                                                    [key], {});\n",
              "        if (!dataTable) return;\n",
              "\n",
              "        const docLinkHtml = 'Like what you see? Visit the ' +\n",
              "          '<a target=\"_blank\" href=https://colab.research.google.com/notebooks/data_table.ipynb>data table notebook</a>'\n",
              "          + ' to learn more about interactive tables.';\n",
              "        element.innerHTML = '';\n",
              "        dataTable['output_type'] = 'display_data';\n",
              "        await google.colab.output.renderOutput(dataTable, element);\n",
              "        const docLink = document.createElement('div');\n",
              "        docLink.innerHTML = docLinkHtml;\n",
              "        element.appendChild(docLink);\n",
              "      }\n",
              "    </script>\n",
              "  </div>\n",
              "\n",
              "\n",
              "    <div id=\"df-8ffbdb13-3f8f-4e01-af42-b7653ea02434\">\n",
              "      <button class=\"colab-df-quickchart\" onclick=\"quickchart('df-8ffbdb13-3f8f-4e01-af42-b7653ea02434')\"\n",
              "                title=\"Suggest charts\"\n",
              "                style=\"display:none;\">\n",
              "\n",
              "<svg xmlns=\"http://www.w3.org/2000/svg\" height=\"24px\"viewBox=\"0 0 24 24\"\n",
              "     width=\"24px\">\n",
              "    <g>\n",
              "        <path d=\"M19 3H5c-1.1 0-2 .9-2 2v14c0 1.1.9 2 2 2h14c1.1 0 2-.9 2-2V5c0-1.1-.9-2-2-2zM9 17H7v-7h2v7zm4 0h-2V7h2v10zm4 0h-2v-4h2v4z\"/>\n",
              "    </g>\n",
              "</svg>\n",
              "      </button>\n",
              "\n",
              "<style>\n",
              "  .colab-df-quickchart {\n",
              "      --bg-color: #E8F0FE;\n",
              "      --fill-color: #1967D2;\n",
              "      --hover-bg-color: #E2EBFA;\n",
              "      --hover-fill-color: #174EA6;\n",
              "      --disabled-fill-color: #AAA;\n",
              "      --disabled-bg-color: #DDD;\n",
              "  }\n",
              "\n",
              "  [theme=dark] .colab-df-quickchart {\n",
              "      --bg-color: #3B4455;\n",
              "      --fill-color: #D2E3FC;\n",
              "      --hover-bg-color: #434B5C;\n",
              "      --hover-fill-color: #FFFFFF;\n",
              "      --disabled-bg-color: #3B4455;\n",
              "      --disabled-fill-color: #666;\n",
              "  }\n",
              "\n",
              "  .colab-df-quickchart {\n",
              "    background-color: var(--bg-color);\n",
              "    border: none;\n",
              "    border-radius: 50%;\n",
              "    cursor: pointer;\n",
              "    display: none;\n",
              "    fill: var(--fill-color);\n",
              "    height: 32px;\n",
              "    padding: 0;\n",
              "    width: 32px;\n",
              "  }\n",
              "\n",
              "  .colab-df-quickchart:hover {\n",
              "    background-color: var(--hover-bg-color);\n",
              "    box-shadow: 0 1px 2px rgba(60, 64, 67, 0.3), 0 1px 3px 1px rgba(60, 64, 67, 0.15);\n",
              "    fill: var(--button-hover-fill-color);\n",
              "  }\n",
              "\n",
              "  .colab-df-quickchart-complete:disabled,\n",
              "  .colab-df-quickchart-complete:disabled:hover {\n",
              "    background-color: var(--disabled-bg-color);\n",
              "    fill: var(--disabled-fill-color);\n",
              "    box-shadow: none;\n",
              "  }\n",
              "\n",
              "  .colab-df-spinner {\n",
              "    border: 2px solid var(--fill-color);\n",
              "    border-color: transparent;\n",
              "    border-bottom-color: var(--fill-color);\n",
              "    animation:\n",
              "      spin 1s steps(1) infinite;\n",
              "  }\n",
              "\n",
              "  @keyframes spin {\n",
              "    0% {\n",
              "      border-color: transparent;\n",
              "      border-bottom-color: var(--fill-color);\n",
              "      border-left-color: var(--fill-color);\n",
              "    }\n",
              "    20% {\n",
              "      border-color: transparent;\n",
              "      border-left-color: var(--fill-color);\n",
              "      border-top-color: var(--fill-color);\n",
              "    }\n",
              "    30% {\n",
              "      border-color: transparent;\n",
              "      border-left-color: var(--fill-color);\n",
              "      border-top-color: var(--fill-color);\n",
              "      border-right-color: var(--fill-color);\n",
              "    }\n",
              "    40% {\n",
              "      border-color: transparent;\n",
              "      border-right-color: var(--fill-color);\n",
              "      border-top-color: var(--fill-color);\n",
              "    }\n",
              "    60% {\n",
              "      border-color: transparent;\n",
              "      border-right-color: var(--fill-color);\n",
              "    }\n",
              "    80% {\n",
              "      border-color: transparent;\n",
              "      border-right-color: var(--fill-color);\n",
              "      border-bottom-color: var(--fill-color);\n",
              "    }\n",
              "    90% {\n",
              "      border-color: transparent;\n",
              "      border-bottom-color: var(--fill-color);\n",
              "    }\n",
              "  }\n",
              "</style>\n",
              "\n",
              "      <script>\n",
              "        async function quickchart(key) {\n",
              "          const quickchartButtonEl =\n",
              "            document.querySelector('#' + key + ' button');\n",
              "          quickchartButtonEl.disabled = true;  // To prevent multiple clicks.\n",
              "          quickchartButtonEl.classList.add('colab-df-spinner');\n",
              "          try {\n",
              "            const charts = await google.colab.kernel.invokeFunction(\n",
              "                'suggestCharts', [key], {});\n",
              "          } catch (error) {\n",
              "            console.error('Error during call to suggestCharts:', error);\n",
              "          }\n",
              "          quickchartButtonEl.classList.remove('colab-df-spinner');\n",
              "          quickchartButtonEl.classList.add('colab-df-quickchart-complete');\n",
              "        }\n",
              "        (() => {\n",
              "          let quickchartButtonEl =\n",
              "            document.querySelector('#df-8ffbdb13-3f8f-4e01-af42-b7653ea02434 button');\n",
              "          quickchartButtonEl.style.display =\n",
              "            google.colab.kernel.accessAllowed ? 'block' : 'none';\n",
              "        })();\n",
              "      </script>\n",
              "    </div>\n",
              "\n",
              "    </div>\n",
              "  </div>\n"
            ],
            "application/vnd.google.colaboratory.intrinsic+json": {
              "type": "dataframe",
              "variable_name": "df",
              "summary": "{\n  \"name\": \"df\",\n  \"rows\": 30,\n  \"fields\": [\n    {\n      \"column\": \"YearsExperience\",\n      \"properties\": {\n        \"dtype\": \"number\",\n        \"std\": 2.8378881576627184,\n        \"min\": 1.2000000000000002,\n        \"max\": 10.6,\n        \"num_unique_values\": 28,\n        \"samples\": [\n          4.0,\n          9.7,\n          3.8\n        ],\n        \"semantic_type\": \"\",\n        \"description\": \"\"\n      }\n    },\n    {\n      \"column\": \"Salary\",\n      \"properties\": {\n        \"dtype\": \"number\",\n        \"std\": 27414.4297845823,\n        \"min\": 37732.0,\n        \"max\": 122392.0,\n        \"num_unique_values\": 30,\n        \"samples\": [\n          112636.0,\n          67939.0,\n          113813.0\n        ],\n        \"semantic_type\": \"\",\n        \"description\": \"\"\n      }\n    }\n  ]\n}"
            }
          },
          "metadata": {},
          "execution_count": 6
        }
      ]
    },
    {
      "cell_type": "code",
      "source": [
        "# Feature and Target\n",
        "X = df[['YearsExperience']]\n",
        "y = df['Salary']\n",
        "\n",
        "# Train-Test Split\n",
        "X_train, X_test, y_train, y_test = train_test_split(X, y, test_size=0.2, random_state=42)\n",
        "X_train.shape, X_test.shape, y_train.shape, y_test.shape"
      ],
      "metadata": {
        "colab": {
          "base_uri": "https://localhost:8080/"
        },
        "id": "8MIkdsS2jqUL",
        "outputId": "bda1216a-51ef-4fde-fd5c-d8a34d44981e"
      },
      "execution_count": 7,
      "outputs": [
        {
          "output_type": "execute_result",
          "data": {
            "text/plain": [
              "((24, 1), (6, 1), (24,), (6,))"
            ]
          },
          "metadata": {},
          "execution_count": 7
        }
      ]
    },
    {
      "cell_type": "markdown",
      "source": [
        "#✏️ Regression Algorithms"
      ],
      "metadata": {
        "id": "f-FpKraFlE0v"
      }
    },
    {
      "cell_type": "markdown",
      "source": [
        "###✅ Linear Regression\n",
        "####📘 Explanation\n",
        "Linear Regression is like drawing the best straight line through points on a graph. Imagine you're tracking how your pocket money increases as you grow older — that’s a straight-line relationship.\n",
        "\n",
        "####Math Formula:\n",
        "\n",
        "𝑦\n",
        "=\n",
        "𝑚\n",
        "𝑥\n",
        "+\n",
        "𝑐\n",
        "y=mx+c\n",
        "\n",
        "Where:\n",
        "\n",
        "1. 𝑦 is the salary,\n",
        "\n",
        "2. 𝑥 is the experience,\n",
        "\n",
        "3. 𝑚 is the slope (how salary increases per year),\n",
        "\n",
        "4. 𝑐 is the intercept (starting salary with 0 experience).\n",
        "\n",
        "###📌 Key Points\n",
        "- It assumes linearity.\n",
        "- Sensitive to outliers.\n",
        "- Easy to interpret."
      ],
      "metadata": {
        "id": "VeK54H-tmDM4"
      }
    },
    {
      "cell_type": "code",
      "source": [
        "lr = LinearRegression()\n",
        "lr.fit(X_train, y_train)\n",
        "y_pred_lr = lr.predict(X_test)\n",
        "# Save model\n",
        "with open('linear_regression.pkl', 'wb') as file:\n",
        "    pickle.dump(lr, file)"
      ],
      "metadata": {
        "id": "xI3K9BIkj9QT"
      },
      "execution_count": 8,
      "outputs": []
    },
    {
      "cell_type": "markdown",
      "source": [
        "###✅ Lasso Regression\n",
        "####📘 Explanation\n",
        "Lasso adds a \"penalty\" to discourage large coefficients (overfitting).\n",
        "Think of it like limiting how many toys you can take on a trip, so you only take the useful ones.\n",
        "####Math Formula:\n",
        "\n",
        "    Cost Function = MSE+𝜆∑∣𝑤𝑖∣\n",
        "\n",
        "####📌 Key Points\n",
        "- L1 Regularization.\n",
        "\n",
        "- Can shrink some coefficients to zero (feature selection)."
      ],
      "metadata": {
        "id": "ZXfG8ycmmPTl"
      }
    },
    {
      "cell_type": "code",
      "source": [
        "lasso = Lasso(alpha=1.0)\n",
        "lasso.fit(X_train, y_train)\n",
        "y_pred_lasso = lasso.predict(X_test)\n",
        "with open('lasso_regression.pkl', 'wb') as file:\n",
        "    pickle.dump(lasso, file)"
      ],
      "metadata": {
        "id": "xBrTb_U9mLMj"
      },
      "execution_count": 9,
      "outputs": []
    },
    {
      "cell_type": "markdown",
      "source": [
        "###✅ Ridge Regression\n",
        "####📘 Explanation\n",
        "Ridge also discourages large weights, but softly.\n",
        "Like using rubber bands instead of locks — it resists but doesn’t stop completely.\n",
        "\n",
        "####Math Formula:\n",
        "\n",
        "    Cost Function=MSE+𝜆∑𝑤𝑖^2\n",
        "\n",
        "####📌 Key Points\n",
        "- L2 Regularization.\n",
        "\n",
        "- Keeps all features but shrinks them."
      ],
      "metadata": {
        "id": "-C2zzAYxm_ag"
      }
    },
    {
      "cell_type": "code",
      "source": [
        "ridge = Ridge(alpha=1.0)\n",
        "ridge.fit(X_train, y_train)\n",
        "y_pred_ridge = ridge.predict(X_test)\n",
        "with open('ridge_regression.pkl', 'wb') as file:\n",
        "    pickle.dump(ridge, file)"
      ],
      "metadata": {
        "id": "hjGBwo2tm82J"
      },
      "execution_count": 10,
      "outputs": []
    },
    {
      "cell_type": "markdown",
      "source": [
        "###✅ Support Vector Regression (SVR)\n",
        "####📘 Explanation\n",
        "SVR tries to fit the best boundary (not just a line) within a margin.\n",
        "Like saying, \"As long as I’m within this range, I’m good.\"\n",
        "\n",
        "####Math Intuition:\n",
        "\n",
        "- Uses a concept called the ε-tube.\n",
        "\n",
        "- Kernel functions can be used for non-linearity.\n",
        "\n",
        "####📌 Key Points\n",
        "- Good for small datasets.\n",
        "\n",
        "- Can handle non-linear relations using kernels."
      ],
      "metadata": {
        "id": "fsis5spknm-g"
      }
    },
    {
      "cell_type": "code",
      "source": [
        "svr = SVR(kernel='linear')\n",
        "svr.fit(X_train, y_train)\n",
        "y_pred_svr = svr.predict(X_test)\n",
        "with open('svr_model.pkl', 'wb') as file:\n",
        "    pickle.dump(svr, file)"
      ],
      "metadata": {
        "id": "DFDzBoznnh8t"
      },
      "execution_count": 11,
      "outputs": []
    },
    {
      "cell_type": "markdown",
      "source": [
        "###✅ Random Forest Regressor\n",
        "####📘 Explanation\n",
        "Like asking many friends (trees) to guess your salary, and then taking an average.\n",
        "Each friend sees a different part of the data.\n",
        "\n",
        "####Math Concept:\n",
        "\n",
        "- Ensemble of decision trees.\n",
        "\n",
        "- Each tree is trained on a bootstrap sample.\n",
        "\n",
        "####📌 Key Points\n",
        "- Reduces overfitting.\n",
        "\n",
        "- Handles non-linear data well."
      ],
      "metadata": {
        "id": "2cj94YUrn98x"
      }
    },
    {
      "cell_type": "code",
      "source": [
        "rfr = RandomForestRegressor(n_estimators=100, random_state=42)\n",
        "rfr.fit(X_train, y_train)\n",
        "y_pred_rfr = rfr.predict(X_test)\n",
        "\n",
        "with open('random_forest_regressor.pkl', 'wb') as file:\n",
        "    pickle.dump(rfr, file)"
      ],
      "metadata": {
        "id": "8LE0oHrVn29K"
      },
      "execution_count": 12,
      "outputs": []
    },
    {
      "cell_type": "markdown",
      "source": [
        "###✅ Decision Tree Regressor\n",
        "####📘 Explanation\n",
        "Imagine making a series of decisions to guess someone's salary based on their experience.\n",
        "A Decision Tree Regressor splits the data into branches based on feature values, making predictions at the leaves.\n",
        "\n",
        "####How It Works:\n",
        "\n",
        "- The algorithm splits the dataset into subsets based on the value of input features.\n",
        "\n",
        "- It chooses splits that minimize the variance (difference) in the target variable within each subset.\n",
        "\n",
        "- This process continues recursively, forming a tree structure.\n",
        "\n",
        "####Math Concept:\n",
        "\n",
        "#####At each node, the algorithm selects the feature and threshold that minimizes the Mean Squared Error (MSE):\n",
        "\n",
        "𝑀𝑆𝐸=(1/𝑛)n^∑.𝑖=1(𝑦𝑖−𝑦^)^2\n",
        "\n",
        "where 𝑦𝑖 is the actual value, and 𝑦^ is the predicted value.\n",
        "\n",
        "####Real-Life Analogy:\n",
        "\n",
        "- Think of playing a guessing game where you ask yes/no questions to narrow down the possibilities. Each question splits the possibilities, just like each node in a decision tree splits the data.\n",
        "\n",
        "####📌 Key Points\n",
        "- Captures non-linear relationships.\n",
        "\n",
        "- Easy to interpret and visualize.\n",
        "\n",
        "- Can overfit if the tree is too deep."
      ],
      "metadata": {
        "id": "H4nCtBInpvJw"
      }
    },
    {
      "cell_type": "code",
      "source": [
        "dtr = DecisionTreeRegressor(random_state=42)\n",
        "dtr.fit(X_train, y_train)\n",
        "y_pred_dtr = dtr.predict(X_test)\n",
        "with open('decision_tree_regressor.pkl', 'wb') as file:\n",
        "    pickle.dump(dtr, file)"
      ],
      "metadata": {
        "id": "9IzxE4kDobvj"
      },
      "execution_count": 14,
      "outputs": []
    },
    {
      "cell_type": "markdown",
      "source": [
        "###✅ Gradient Boosting Regressor\n",
        "####📘 Explanation\n",
        "Like a team working in sequence — each person corrects the mistakes of the previous one.\n",
        "\n",
        "####Math Intuition:\n",
        "\n",
        "- Sequential learning.\n",
        "\n",
        "- Uses gradients (errors) to improve.\n",
        "\n",
        "####📌 Key Points\n",
        "- Works well with small-medium data.\n",
        "\n",
        "- Slower to train than random forest."
      ],
      "metadata": {
        "id": "TfkF7AMmq6ip"
      }
    },
    {
      "cell_type": "code",
      "source": [
        "gbr = GradientBoostingRegressor(n_estimators=100, random_state=42)\n",
        "gbr.fit(X_train, y_train)\n",
        "y_pred_gbr = gbr.predict(X_test)\n",
        "with open('gradient_boosting.pkl', 'wb') as file:\n",
        "    pickle.dump(gbr, file)"
      ],
      "metadata": {
        "id": "njw57avBq2yh"
      },
      "execution_count": 15,
      "outputs": []
    },
    {
      "cell_type": "markdown",
      "source": [
        "###✅ AdaBoost Regressor\n",
        "####📘 Explanation\n",
        "Similar to Gradient Boost, but adjusts weights on data points instead of gradients.\n",
        "\n",
        "####Math Concept:\n",
        "\n",
        "- Weak learners combined using weighted majority.\n",
        "\n",
        "####📌 Key Points\n",
        "- Focuses on difficult cases.\n",
        "\n",
        "- Sensitive to outliers."
      ],
      "metadata": {
        "id": "ClMGWiekrL8_"
      }
    },
    {
      "cell_type": "code",
      "source": [
        "adb = AdaBoostRegressor(n_estimators=100, random_state=42)\n",
        "adb.fit(X_train, y_train)\n",
        "y_pred_adb = adb.predict(X_test)\n",
        "\n",
        "with open('adaboost_regressor.pkl', 'wb') as file:\n",
        "    pickle.dump(adb, file)"
      ],
      "metadata": {
        "id": "2MJ8O-e5rHyy"
      },
      "execution_count": 16,
      "outputs": []
    },
    {
      "cell_type": "code",
      "source": [
        "models = {\n",
        "    \"Linear Regression\": y_pred_lr,\n",
        "    \"Lasso Regression\": y_pred_lasso,\n",
        "    \"Ridge Regression\": y_pred_ridge,\n",
        "    \"SVR\": y_pred_svr,\n",
        "    \"Random Forest\": y_pred_rfr,\n",
        "    \"Gradient Boosting\": y_pred_gbr,\n",
        "    \"AdaBoost\": y_pred_adb,\n",
        "    \"Decision Tree\": y_pred_dtr\n",
        "}\n",
        "\n",
        "print(\"Model Performance:\\n\")\n",
        "for name, pred in models.items():\n",
        "    print(f\"🔹 {name}\")\n",
        "    print(f\"MAE: {mean_absolute_error(y_test, pred):.2f}\")\n",
        "    print(f\"MSE: {mean_squared_error(y_test, pred):.2f}\")\n",
        "    print(f\"RMSE: {np.sqrt(mean_squared_error(y_test, pred)):.2f}\")\n",
        "    print(f\"R² Score: {r2_score(y_test, pred):.4f}\")\n",
        "    print(\"-\"*40)"
      ],
      "metadata": {
        "colab": {
          "base_uri": "https://localhost:8080/"
        },
        "id": "20r06tqdrU_Z",
        "outputId": "ffc8bbbe-89a5-4402-a26d-b2438430b87a"
      },
      "execution_count": 17,
      "outputs": [
        {
          "output_type": "stream",
          "name": "stdout",
          "text": [
            "Model Performance:\n",
            "\n",
            "🔹 Linear Regression\n",
            "MAE: 6286.45\n",
            "MSE: 49830096.86\n",
            "RMSE: 7059.04\n",
            "R² Score: 0.9024\n",
            "----------------------------------------\n",
            "🔹 Lasso Regression\n",
            "MAE: 6286.42\n",
            "MSE: 49830434.56\n",
            "RMSE: 7059.07\n",
            "R² Score: 0.9024\n",
            "----------------------------------------\n",
            "🔹 Ridge Regression\n",
            "MAE: 6274.69\n",
            "MSE: 49974852.72\n",
            "RMSE: 7069.29\n",
            "R² Score: 0.9022\n",
            "----------------------------------------\n",
            "🔹 SVR\n",
            "MAE: 22577.03\n",
            "MSE: 943057673.90\n",
            "RMSE: 30709.24\n",
            "R² Score: -0.8463\n",
            "----------------------------------------\n",
            "🔹 Random Forest\n",
            "MAE: 6872.01\n",
            "MSE: 63721129.71\n",
            "RMSE: 7982.55\n",
            "R² Score: 0.8753\n",
            "----------------------------------------\n",
            "🔹 Gradient Boosting\n",
            "MAE: 8530.50\n",
            "MSE: 99492682.61\n",
            "RMSE: 9974.60\n",
            "R² Score: 0.8052\n",
            "----------------------------------------\n",
            "🔹 AdaBoost\n",
            "MAE: 7507.81\n",
            "MSE: 87068424.45\n",
            "RMSE: 9331.05\n",
            "R² Score: 0.8295\n",
            "----------------------------------------\n",
            "🔹 Decision Tree\n",
            "MAE: 8640.17\n",
            "MSE: 101047709.83\n",
            "RMSE: 10052.25\n",
            "R² Score: 0.8022\n",
            "----------------------------------------\n"
          ]
        }
      ]
    },
    {
      "cell_type": "code",
      "source": [],
      "metadata": {
        "id": "Qu0HzbGHrX11"
      },
      "execution_count": null,
      "outputs": []
    }
  ]
}